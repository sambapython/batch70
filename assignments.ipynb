{
 "cells": [
  {
   "cell_type": "code",
   "execution_count": 2,
   "metadata": {},
   "outputs": [
    {
     "name": "stdout",
     "output_type": "stream",
     "text": [
      "125.0\n"
     ]
    }
   ],
   "source": [
    "# variance\n",
    "x1,x2,x3,x4=10,20,30,40\n",
    "xbar = (x1+x2+x3+x4)/4\n",
    "sigma_x_xbar = (x1-xbar)**2+(x2-xbar)**2+(x3-xbar)**2+(x4-xbar)**2\n",
    "variance = sigma_x_xbar/4\n",
    "print(variance)\n"
   ]
  },
  {
   "cell_type": "code",
   "execution_count": 4,
   "metadata": {},
   "outputs": [],
   "source": [
    "import numpy as np\n",
    "ar1 = np.array([10,20,30,40])"
   ]
  },
  {
   "cell_type": "code",
   "execution_count": 6,
   "metadata": {},
   "outputs": [
    {
     "name": "stdout",
     "output_type": "stream",
     "text": [
      "125.0\n"
     ]
    }
   ],
   "source": [
    "print(ar1.var())"
   ]
  },
  {
   "cell_type": "code",
   "execution_count": 1,
   "metadata": {},
   "outputs": [
    {
     "name": "stdout",
     "output_type": "stream",
     "text": [
      "97\n",
      "122\n"
     ]
    }
   ],
   "source": [
    "#26 take a letter from the user and print it belongs to which cateogry\n",
    "print(ord(\"a\"))\n",
    "print(ord(\"z\"))"
   ]
  },
  {
   "cell_type": "code",
   "execution_count": 2,
   "metadata": {},
   "outputs": [
    {
     "data": {
      "text/plain": [
       "True"
      ]
     },
     "execution_count": 2,
     "metadata": {},
     "output_type": "execute_result"
    }
   ],
   "source": [
    "100 in range(97,123)"
   ]
  },
  {
   "cell_type": "code",
   "execution_count": 3,
   "metadata": {},
   "outputs": [
    {
     "data": {
      "text/plain": [
       "True"
      ]
     },
     "execution_count": 3,
     "metadata": {},
     "output_type": "execute_result"
    }
   ],
   "source": [
    "122 in range(97,123)"
   ]
  },
  {
   "cell_type": "code",
   "execution_count": 4,
   "metadata": {},
   "outputs": [
    {
     "data": {
      "text/plain": [
       "False"
      ]
     },
     "execution_count": 4,
     "metadata": {},
     "output_type": "execute_result"
    }
   ],
   "source": [
    "123 in range(97,123)"
   ]
  },
  {
   "cell_type": "code",
   "execution_count": 5,
   "metadata": {},
   "outputs": [
    {
     "data": {
      "text/plain": [
       "False"
      ]
     },
     "execution_count": 5,
     "metadata": {},
     "output_type": "execute_result"
    }
   ],
   "source": [
    "96 in range(97,123)"
   ]
  },
  {
   "cell_type": "code",
   "execution_count": 7,
   "metadata": {},
   "outputs": [
    {
     "name": "stdout",
     "output_type": "stream",
     "text": [
      "enter letter:$\n",
      "special symbol\n"
     ]
    }
   ],
   "source": [
    "ascii_value = ord(input(\"enter letter:\"))\n",
    "if ascii_value in range( ord(\"a\"), ord(\"z\")+1):\n",
    "    print(\"its a small letter\")\n",
    "elif ascii_value in range(ord(\"A\"),ord(\"Z\")):\n",
    "    print(\"its a capital letter\")\n",
    "elif ascii_value in range(ord(\"1\"), ord(\"9\")):\n",
    "    print(\"its a number\")\n",
    "else:\n",
    "    print(\"special symbol\")"
   ]
  },
  {
   "cell_type": "code",
   "execution_count": 8,
   "metadata": {},
   "outputs": [
    {
     "name": "stdout",
     "output_type": "stream",
     "text": [
      "enter letter:a\n",
      "its a small letter\n"
     ]
    }
   ],
   "source": [
    "ascii_value = ord(input(\"enter letter:\"))\n",
    "if ascii_value in range( ord(\"a\"), ord(\"z\")+1):\n",
    "    print(\"its a small letter\")\n",
    "elif ascii_value in range(ord(\"A\"),ord(\"Z\")):\n",
    "    print(\"its a capital letter\")\n",
    "elif ascii_value in range(ord(\"1\"), ord(\"9\")):\n",
    "    print(\"its a number\")\n",
    "else:\n",
    "    print(\"special symbol\")"
   ]
  },
  {
   "cell_type": "code",
   "execution_count": 9,
   "metadata": {},
   "outputs": [
    {
     "name": "stdout",
     "output_type": "stream",
     "text": [
      "enter letter:W\n",
      "its a capital letter\n"
     ]
    }
   ],
   "source": [
    "ascii_value = ord(input(\"enter letter:\"))\n",
    "if ascii_value in range( ord(\"a\"), ord(\"z\")+1):\n",
    "    print(\"its a small letter\")\n",
    "elif ascii_value in range(ord(\"A\"),ord(\"Z\")):\n",
    "    print(\"its a capital letter\")\n",
    "elif ascii_value in range(ord(\"1\"), ord(\"9\")):\n",
    "    print(\"its a number\")\n",
    "else:\n",
    "    print(\"special symbol\")"
   ]
  },
  {
   "cell_type": "code",
   "execution_count": 10,
   "metadata": {},
   "outputs": [
    {
     "name": "stdout",
     "output_type": "stream",
     "text": [
      "enter letter:1\n",
      "its a number\n"
     ]
    }
   ],
   "source": [
    "ascii_value = ord(input(\"enter letter:\"))\n",
    "if ascii_value in range( ord(\"a\"), ord(\"z\")+1):\n",
    "    print(\"its a small letter\")\n",
    "elif ascii_value in range(ord(\"A\"),ord(\"Z\")):\n",
    "    print(\"its a capital letter\")\n",
    "elif ascii_value in range(ord(\"1\"), ord(\"9\")):\n",
    "    print(\"its a number\")\n",
    "else:\n",
    "    print(\"special symbol\")"
   ]
  },
  {
   "cell_type": "code",
   "execution_count": null,
   "metadata": {},
   "outputs": [],
   "source": []
  }
 ],
 "metadata": {
  "kernelspec": {
   "display_name": "Python 3",
   "language": "python",
   "name": "python3"
  },
  "language_info": {
   "codemirror_mode": {
    "name": "ipython",
    "version": 3
   },
   "file_extension": ".py",
   "mimetype": "text/x-python",
   "name": "python",
   "nbconvert_exporter": "python",
   "pygments_lexer": "ipython3",
   "version": "3.7.4"
  }
 },
 "nbformat": 4,
 "nbformat_minor": 2
}
