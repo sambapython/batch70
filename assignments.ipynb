{
 "cells": [
  {
   "cell_type": "code",
   "execution_count": 2,
   "metadata": {},
   "outputs": [
    {
     "name": "stdout",
     "output_type": "stream",
     "text": [
      "125.0\n"
     ]
    }
   ],
   "source": [
    "# variance\n",
    "x1,x2,x3,x4=10,20,30,40\n",
    "xbar = (x1+x2+x3+x4)/4\n",
    "sigma_x_xbar = (x1-xbar)**2+(x2-xbar)**2+(x3-xbar)**2+(x4-xbar)**2\n",
    "variance = sigma_x_xbar/4\n",
    "print(variance)\n"
   ]
  },
  {
   "cell_type": "code",
   "execution_count": 4,
   "metadata": {},
   "outputs": [],
   "source": [
    "import numpy as np\n",
    "ar1 = np.array([10,20,30,40])"
   ]
  },
  {
   "cell_type": "code",
   "execution_count": 6,
   "metadata": {},
   "outputs": [
    {
     "name": "stdout",
     "output_type": "stream",
     "text": [
      "125.0\n"
     ]
    }
   ],
   "source": [
    "print(ar1.var())"
   ]
  },
  {
   "cell_type": "code",
   "execution_count": 1,
   "metadata": {},
   "outputs": [
    {
     "name": "stdout",
     "output_type": "stream",
     "text": [
      "97\n",
      "122\n"
     ]
    }
   ],
   "source": [
    "#26 take a letter from the user and print it belongs to which cateogry\n",
    "print(ord(\"a\"))\n",
    "print(ord(\"z\"))"
   ]
  },
  {
   "cell_type": "code",
   "execution_count": 2,
   "metadata": {},
   "outputs": [
    {
     "data": {
      "text/plain": [
       "True"
      ]
     },
     "execution_count": 2,
     "metadata": {},
     "output_type": "execute_result"
    }
   ],
   "source": [
    "100 in range(97,123)"
   ]
  },
  {
   "cell_type": "code",
   "execution_count": 3,
   "metadata": {},
   "outputs": [
    {
     "data": {
      "text/plain": [
       "True"
      ]
     },
     "execution_count": 3,
     "metadata": {},
     "output_type": "execute_result"
    }
   ],
   "source": [
    "122 in range(97,123)"
   ]
  },
  {
   "cell_type": "code",
   "execution_count": 4,
   "metadata": {},
   "outputs": [
    {
     "data": {
      "text/plain": [
       "False"
      ]
     },
     "execution_count": 4,
     "metadata": {},
     "output_type": "execute_result"
    }
   ],
   "source": [
    "123 in range(97,123)"
   ]
  },
  {
   "cell_type": "code",
   "execution_count": 5,
   "metadata": {},
   "outputs": [
    {
     "data": {
      "text/plain": [
       "False"
      ]
     },
     "execution_count": 5,
     "metadata": {},
     "output_type": "execute_result"
    }
   ],
   "source": [
    "96 in range(97,123)"
   ]
  },
  {
   "cell_type": "code",
   "execution_count": 7,
   "metadata": {},
   "outputs": [
    {
     "name": "stdout",
     "output_type": "stream",
     "text": [
      "enter letter:$\n",
      "special symbol\n"
     ]
    }
   ],
   "source": [
    "ascii_value = ord(input(\"enter letter:\"))\n",
    "if ascii_value in range( ord(\"a\"), ord(\"z\")+1):\n",
    "    print(\"its a small letter\")\n",
    "elif ascii_value in range(ord(\"A\"),ord(\"Z\")):\n",
    "    print(\"its a capital letter\")\n",
    "elif ascii_value in range(ord(\"1\"), ord(\"9\")):\n",
    "    print(\"its a number\")\n",
    "else:\n",
    "    print(\"special symbol\")"
   ]
  },
  {
   "cell_type": "code",
   "execution_count": 8,
   "metadata": {},
   "outputs": [
    {
     "name": "stdout",
     "output_type": "stream",
     "text": [
      "enter letter:a\n",
      "its a small letter\n"
     ]
    }
   ],
   "source": [
    "ascii_value = ord(input(\"enter letter:\"))\n",
    "if ascii_value in range( ord(\"a\"), ord(\"z\")+1):\n",
    "    print(\"its a small letter\")\n",
    "elif ascii_value in range(ord(\"A\"),ord(\"Z\")):\n",
    "    print(\"its a capital letter\")\n",
    "elif ascii_value in range(ord(\"1\"), ord(\"9\")):\n",
    "    print(\"its a number\")\n",
    "else:\n",
    "    print(\"special symbol\")"
   ]
  },
  {
   "cell_type": "code",
   "execution_count": 9,
   "metadata": {},
   "outputs": [
    {
     "name": "stdout",
     "output_type": "stream",
     "text": [
      "enter letter:W\n",
      "its a capital letter\n"
     ]
    }
   ],
   "source": [
    "ascii_value = ord(input(\"enter letter:\"))\n",
    "if ascii_value in range( ord(\"a\"), ord(\"z\")+1):\n",
    "    print(\"its a small letter\")\n",
    "elif ascii_value in range(ord(\"A\"),ord(\"Z\")):\n",
    "    print(\"its a capital letter\")\n",
    "elif ascii_value in range(ord(\"1\"), ord(\"9\")):\n",
    "    print(\"its a number\")\n",
    "else:\n",
    "    print(\"special symbol\")"
   ]
  },
  {
   "cell_type": "code",
   "execution_count": 10,
   "metadata": {},
   "outputs": [
    {
     "name": "stdout",
     "output_type": "stream",
     "text": [
      "enter letter:1\n",
      "its a number\n"
     ]
    }
   ],
   "source": [
    "ascii_value = ord(input(\"enter letter:\"))\n",
    "if ascii_value in range( ord(\"a\"), ord(\"z\")+1):\n",
    "    print(\"its a small letter\")\n",
    "elif ascii_value in range(ord(\"A\"),ord(\"Z\")+1):\n",
    "    print(\"its a capital letter\")\n",
    "elif ascii_value in range(ord(\"1\"), ord(\"9\")+1):\n",
    "    print(\"its a number\")\n",
    "else:\n",
    "    print(\"special symbol\")"
   ]
  },
  {
   "cell_type": "code",
   "execution_count": 1,
   "metadata": {},
   "outputs": [
    {
     "data": {
      "text/plain": [
       "'APPLE orange grape APPLE banana APPLE papaya APPLE'"
      ]
     },
     "execution_count": 1,
     "metadata": {},
     "output_type": "execute_result"
    }
   ],
   "source": [
    "s=\"apple orange grape apple banana apple papaya apple\"\n",
    "# APPLE\n",
    "s.replace(\"apple\",\"APPLE\")"
   ]
  },
  {
   "cell_type": "code",
   "execution_count": 2,
   "metadata": {},
   "outputs": [
    {
     "data": {
      "text/plain": [
       "'APPLE orange grape APPLE banana apple papaya apple'"
      ]
     },
     "execution_count": 2,
     "metadata": {},
     "output_type": "execute_result"
    }
   ],
   "source": [
    "s=\"apple orange grape apple banana apple papaya apple\"\n",
    "# APPLE\n",
    "s.replace(\"apple\",\"APPLE\",2)"
   ]
  },
  {
   "cell_type": "code",
   "execution_count": 3,
   "metadata": {},
   "outputs": [
    {
     "name": "stdout",
     "output_type": "stream",
     "text": [
      "apple\n"
     ]
    }
   ],
   "source": [
    "s=\"grape apple orange grape apple banana apple papaya apple\"\n",
    "source  =\"apple\"\n",
    "dest = \"APPLE\"\n",
    "sub = \"\"\n",
    "for i in s:\n",
    "    sub = sub+i\n",
    "    if len(sub) == len(source):\n",
    "        \n",
    "    if sub == source:\n",
    "        print(sub)\n",
    "        sub=\"\"\n",
    "        "
   ]
  },
  {
   "cell_type": "code",
   "execution_count": 19,
   "metadata": {},
   "outputs": [
    {
     "name": "stdout",
     "output_type": "stream",
     "text": [
      "apple\n",
      "apple\n",
      "apple\n",
      "apple\n",
      "grape APPLE orange grape APPLE banana APPLE papaya APPLE \n"
     ]
    }
   ],
   "source": [
    "s=\"grape apple orange grape apple banana apple papaya apple\"\n",
    "source  =\"apple\"\n",
    "dest = \"APPLE\"\n",
    "sub = \"\"\n",
    "c=0\n",
    "res=\"\"\n",
    "while c<len(s):\n",
    "    res = res+s[c]\n",
    "    for i in s[c:]:\n",
    "        sub = sub+i\n",
    "        if len(sub) == len(source):\n",
    "            if sub == source:\n",
    "                print(sub)\n",
    "                sub=\"\"\n",
    "                c=c+len(source)\n",
    "                res = res[:-1]+dest+\" \"\n",
    "            else:\n",
    "                sub=\"\"\n",
    "            break\n",
    "    c=c+1\n",
    "        \n",
    "print(res)    "
   ]
  },
  {
   "cell_type": "code",
   "execution_count": 23,
   "metadata": {},
   "outputs": [
    {
     "name": "stdout",
     "output_type": "stream",
     "text": [
      "apple\n",
      "apple\n",
      "grape APPLE orange grape APPLE banana apple papaya apple\n"
     ]
    }
   ],
   "source": [
    "s=\"grape apple orange grape apple banana apple papaya apple\"\n",
    "source  =\"apple\"\n",
    "dest = \"APPLE\"\n",
    "sub = \"\"\n",
    "n=2\n",
    "occ = 0           \n",
    "c=0\n",
    "res=\"\"\n",
    "while c<len(s):\n",
    "    if occ == n:\n",
    "        res = res+s[c:]\n",
    "        break                     \n",
    "    res = res+s[c]\n",
    "    for i in s[c:]:\n",
    "        sub = sub+i\n",
    "        if len(sub) == len(source):\n",
    "            if sub == source:\n",
    "                print(sub)\n",
    "                sub=\"\"\n",
    "                c=c+len(source)\n",
    "                res = res[:-1]+dest+\" \"\n",
    "                occ = occ+1\n",
    "            else:\n",
    "                sub=\"\"\n",
    "            break\n",
    "    c=c+1        \n",
    "print(res)    "
   ]
  },
  {
   "cell_type": "code",
   "execution_count": 26,
   "metadata": {},
   "outputs": [
    {
     "data": {
      "text/plain": [
       "'grape apple orange grape apple banana APPLE papaya APPLE'"
      ]
     },
     "execution_count": 26,
     "metadata": {},
     "output_type": "execute_result"
    }
   ],
   "source": [
    "s=\"grape apple orange grape apple banana apple papaya apple\"\n",
    "\"APPLE\".join(s.rsplit(\"apple\",2))"
   ]
  },
  {
   "cell_type": "code",
   "execution_count": 29,
   "metadata": {},
   "outputs": [
    {
     "name": "stdout",
     "output_type": "stream",
     "text": [
      "44\n"
     ]
    }
   ],
   "source": [
    "s=\"grape apple orange grape apple banana apple papaya apple\"\n",
    "source  =\"apple\"\n",
    "sub = \"\"          \n",
    "c=0\n",
    "occ=0\n",
    "res=\"\"\n",
    "while c<len(s):\n",
    "    if occ == 3:\n",
    "        print(c)\n",
    "        break                     \n",
    "    res = res+s[c]\n",
    "    for i in s[c:]:\n",
    "        sub = sub+i\n",
    "        if len(sub) == len(source):\n",
    "            if sub == source:\n",
    "                sub=\"\"\n",
    "                c=c+len(source)\n",
    "                occ = occ+1\n",
    "            else:\n",
    "                sub=\"\"\n",
    "            break\n",
    "    c=c+1        "
   ]
  },
  {
   "cell_type": "code",
   "execution_count": 28,
   "metadata": {},
   "outputs": [
    {
     "data": {
      "text/plain": [
       "56"
      ]
     },
     "execution_count": 28,
     "metadata": {},
     "output_type": "execute_result"
    }
   ],
   "source": [
    "len(s)"
   ]
  },
  {
   "cell_type": "code",
   "execution_count": 30,
   "metadata": {},
   "outputs": [
    {
     "data": {
      "text/plain": [
       "0"
      ]
     },
     "execution_count": 30,
     "metadata": {},
     "output_type": "execute_result"
    }
   ],
   "source": [
    "s=\"apple\"\n",
    "s.index(\"a\")"
   ]
  },
  {
   "cell_type": "code",
   "execution_count": 31,
   "metadata": {},
   "outputs": [
    {
     "data": {
      "text/plain": [
       "1"
      ]
     },
     "execution_count": 31,
     "metadata": {},
     "output_type": "execute_result"
    }
   ],
   "source": [
    "s.index(\"p\")"
   ]
  },
  {
   "cell_type": "code",
   "execution_count": 32,
   "metadata": {},
   "outputs": [
    {
     "data": {
      "text/plain": [
       "3"
      ]
     },
     "execution_count": 32,
     "metadata": {},
     "output_type": "execute_result"
    }
   ],
   "source": [
    "s.index(\"l\")"
   ]
  },
  {
   "cell_type": "code",
   "execution_count": 33,
   "metadata": {},
   "outputs": [
    {
     "data": {
      "text/plain": [
       "4"
      ]
     },
     "execution_count": 33,
     "metadata": {},
     "output_type": "execute_result"
    }
   ],
   "source": [
    "s.index(\"e\")"
   ]
  },
  {
   "cell_type": "code",
   "execution_count": 34,
   "metadata": {},
   "outputs": [
    {
     "data": {
      "text/plain": [
       "0"
      ]
     },
     "execution_count": 34,
     "metadata": {},
     "output_type": "execute_result"
    }
   ],
   "source": [
    "s.index(\"apple\")"
   ]
  },
  {
   "cell_type": "code",
   "execution_count": null,
   "metadata": {},
   "outputs": [],
   "source": []
  }
 ],
 "metadata": {
  "kernelspec": {
   "display_name": "Python 3",
   "language": "python",
   "name": "python3"
  },
  "language_info": {
   "codemirror_mode": {
    "name": "ipython",
    "version": 3
   },
   "file_extension": ".py",
   "mimetype": "text/x-python",
   "name": "python",
   "nbconvert_exporter": "python",
   "pygments_lexer": "ipython3",
   "version": "3.7.4"
  }
 },
 "nbformat": 4,
 "nbformat_minor": 2
}
