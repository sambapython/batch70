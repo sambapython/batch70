{
 "cells": [
  {
   "cell_type": "code",
   "execution_count": 1,
   "metadata": {},
   "outputs": [
    {
     "name": "stdout",
     "output_type": "stream",
     "text": [
      "10\n"
     ]
    }
   ],
   "source": [
    "l=[10,20,30,40]\n",
    "print(l[0])\n"
   ]
  },
  {
   "cell_type": "code",
   "execution_count": 4,
   "metadata": {},
   "outputs": [
    {
     "name": "stdout",
     "output_type": "stream",
     "text": [
      "10\n",
      "20\n",
      "30\n",
      "40\n"
     ]
    }
   ],
   "source": [
    "l=[10,20,30,40]\n",
    "print(l[0])\n",
    "print(l[1])\n",
    "print(l[2])\n",
    "print(l[3])"
   ]
  },
  {
   "cell_type": "code",
   "execution_count": 9,
   "metadata": {},
   "outputs": [
    {
     "name": "stdout",
     "output_type": "stream",
     "text": [
      "3 is odd\n"
     ]
    }
   ],
   "source": [
    "l=[10,20,30,40,3]\n",
    "if l[0]%2==1:\n",
    "    print(l[0],\"is odd\")\n",
    "if l[1]%2==1:\n",
    "    print(l[1],\"is odd\")\n",
    "if l[2]%2==1:\n",
    "    print(l[2],\"is odd\")\n",
    "if l[3]%2==1:\n",
    "    print(l[3],\"is odd\")\n",
    "if l[4]%2==1:\n",
    "    print(l[4],\"is odd\")"
   ]
  },
  {
   "cell_type": "code",
   "execution_count": 11,
   "metadata": {},
   "outputs": [
    {
     "name": "stdout",
     "output_type": "stream",
     "text": [
      "10\n",
      "20\n",
      "30\n",
      "40\n",
      "3\n",
      "thanks\n"
     ]
    }
   ],
   "source": [
    "l=[10,20,30,40,3]\n",
    "for i in l:\n",
    "    print(i)\n",
    "print(\"thanks\")"
   ]
  },
  {
   "cell_type": "code",
   "execution_count": 12,
   "metadata": {},
   "outputs": [
    {
     "name": "stdout",
     "output_type": "stream",
     "text": [
      "10\n",
      "20\n",
      "30\n",
      "40\n",
      "3\n",
      "30\n",
      "thanks\n"
     ]
    }
   ],
   "source": [
    "l=[10,20,30,40,3,30]\n",
    "for i in l:\n",
    "    print(i)\n",
    "print(\"thanks\")"
   ]
  },
  {
   "cell_type": "code",
   "execution_count": 13,
   "metadata": {},
   "outputs": [
    {
     "name": "stdout",
     "output_type": "stream",
     "text": [
      "10\n",
      "20\n",
      "30\n",
      "40\n",
      "3\n",
      "30\n"
     ]
    }
   ],
   "source": [
    "l=[10,20,30,40,3,30]\n",
    "for i in l:\n",
    "    print(i)\n",
    "    "
   ]
  },
  {
   "cell_type": "code",
   "execution_count": 14,
   "metadata": {},
   "outputs": [],
   "source": [
    "d={\"name\":\"jay\",\"age\":\"3\"}"
   ]
  },
  {
   "cell_type": "code",
   "execution_count": 15,
   "metadata": {},
   "outputs": [],
   "source": [
    "d={\"name\":\"jay\",\"age\":3}"
   ]
  },
  {
   "cell_type": "code",
   "execution_count": 16,
   "metadata": {},
   "outputs": [
    {
     "name": "stdout",
     "output_type": "stream",
     "text": [
      "10\n",
      "20\n",
      "thanks\n"
     ]
    }
   ],
   "source": [
    "l=[10,20,3]\n",
    "for i in l:\n",
    "    if i%2==0:\n",
    "        print(i)\n",
    "print(\"thanks\")"
   ]
  },
  {
   "cell_type": "code",
   "execution_count": 17,
   "metadata": {},
   "outputs": [
    {
     "name": "stdout",
     "output_type": "stream",
     "text": [
      "10 is even\n",
      "20 is even\n",
      "thanks\n"
     ]
    }
   ],
   "source": [
    "l=[10,20,3]\n",
    "for i in l:\n",
    "    if i%2==0:\n",
    "        print(i,\"is even\")\n",
    "print(\"thanks\")"
   ]
  },
  {
   "cell_type": "code",
   "execution_count": null,
   "metadata": {},
   "outputs": [],
   "source": [
    "l=[1,3,4,2,6]\n",
    "# 1 is odd\n",
    "# 3 is odd\n",
    "# 4 is even"
   ]
  },
  {
   "cell_type": "code",
   "execution_count": 18,
   "metadata": {},
   "outputs": [
    {
     "name": "stdout",
     "output_type": "stream",
     "text": [
      "apple\n",
      "grape\n",
      "orange\n",
      "papaya\n"
     ]
    }
   ],
   "source": [
    "fruits = [\"apple\",\"grape\",\"orange\",\"papaya\"]\n",
    "for fruit in fruits:\n",
    "    print(fruit)"
   ]
  },
  {
   "cell_type": "code",
   "execution_count": 19,
   "metadata": {},
   "outputs": [
    {
     "name": "stdout",
     "output_type": "stream",
     "text": [
      "jay\n",
      "vedha\n",
      "sai\n"
     ]
    }
   ],
   "source": [
    "emps = [\"jay\",\"vedha\",\"sai\"]\n",
    "for emp in emps:\n",
    "    print(emp)"
   ]
  },
  {
   "cell_type": "code",
   "execution_count": 20,
   "metadata": {},
   "outputs": [
    {
     "name": "stdout",
     "output_type": "stream",
     "text": [
      "1 is odd\n",
      "3 is odd\n",
      "4 is even\n",
      "2 is even\n",
      "6 is even\n"
     ]
    }
   ],
   "source": [
    "numbers=[1,3,4,2,6]\n",
    "# 1 is odd\n",
    "# 3 is odd\n",
    "# 4 is even\n",
    "for number in numbers:\n",
    "    if number%2==0:\n",
    "        print(number, \"is even\")\n",
    "    else:\n",
    "        print(number,\"is odd\")"
   ]
  },
  {
   "cell_type": "code",
   "execution_count": 21,
   "metadata": {},
   "outputs": [
    {
     "name": "stdout",
     "output_type": "stream",
     "text": [
      "Even numbers: 3\n",
      "odd number: 4\n"
     ]
    }
   ],
   "source": [
    "numbers=[1,3,4,2,6,7,9]\n",
    "# count number of evens and number of odds\n",
    "# ood numbers:4, even numbers:3\n",
    "even_count=0\n",
    "odd_count=0\n",
    "for number in numbers:\n",
    "    if number%2==0: #9 False\n",
    "        even_count=even_count+1 #3\n",
    "    else:\n",
    "        odd_count=odd_count+1 # 4\n",
    "print(\"Even numbers:\",even_count)\n",
    "print(\"odd number:\",odd_count)\n",
    "        \n",
    "        "
   ]
  },
  {
   "cell_type": "code",
   "execution_count": null,
   "metadata": {},
   "outputs": [],
   "source": [
    "numbers=[1,3,4,2,6,7,9]\n",
    "# Check whether the list contains atleast one even number or not\n",
    "# yes..\n",
    "numbers=[11,13,15,37,53]\n",
    "#no\n",
    "numbers=[1,3,4,2,6,7,9]\n",
    "# count number of evens and number of odds\n",
    "# ood numbers:4, even numbers:3\n",
    "even_count=0\n",
    "for number in numbers:\n",
    "    if number%2==0:\n",
    "        even_count=even_count+1\n",
    "if even_count==0:\n",
    "    print(\"NO\")\n",
    "else:\n",
    "    print(\"yes\")\n",
    "        \n",
    "        "
   ]
  },
  {
   "cell_type": "code",
   "execution_count": 1,
   "metadata": {},
   "outputs": [
    {
     "name": "stdout",
     "output_type": "stream",
     "text": [
      "0\n"
     ]
    }
   ],
   "source": [
    "numbers=[1,3]\n",
    "# count number of evens and number of odds\n",
    "# ood numbers:4, even numbers:3\n",
    "even_count=0\n",
    "for number in numbers:\n",
    "    if number%2==0:\n",
    "        even_count=even_count+1\n",
    "print(even_count)"
   ]
  },
  {
   "cell_type": "code",
   "execution_count": 2,
   "metadata": {},
   "outputs": [
    {
     "name": "stdout",
     "output_type": "stream",
     "text": [
      "2\n"
     ]
    }
   ],
   "source": [
    "numbers=[1,4,3,6]\n",
    "# count number of evens and number of odds\n",
    "# ood numbers:4, even numbers:3\n",
    "even_count=0\n",
    "for number in numbers:\n",
    "    if number%2==0:\n",
    "        even_count=even_count+1\n",
    "print(even_count)"
   ]
  },
  {
   "cell_type": "code",
   "execution_count": 3,
   "metadata": {},
   "outputs": [
    {
     "name": "stdout",
     "output_type": "stream",
     "text": [
      "yes\n"
     ]
    }
   ],
   "source": [
    "numbers=[1,3,4,2,6,7,9]\n",
    "even_count=0\n",
    "for number in numbers:\n",
    "    if number%2==0:\n",
    "        even_count=even_count+1\n",
    "if even_count==0:\n",
    "    print(\"NO\")\n",
    "else:\n",
    "    print(\"yes\")"
   ]
  },
  {
   "cell_type": "code",
   "execution_count": 4,
   "metadata": {},
   "outputs": [
    {
     "name": "stdout",
     "output_type": "stream",
     "text": [
      "NO\n"
     ]
    }
   ],
   "source": [
    "numbers=[1,3]\n",
    "even_count=0\n",
    "for number in numbers:\n",
    "    if number%2==0:\n",
    "        even_count=even_count+1\n",
    "if even_count==0:\n",
    "    print(\"NO\")\n",
    "else:\n",
    "    print(\"yes\")"
   ]
  },
  {
   "cell_type": "code",
   "execution_count": 5,
   "metadata": {},
   "outputs": [
    {
     "name": "stdout",
     "output_type": "stream",
     "text": [
      "1\n",
      "4\n",
      "3\n",
      "6\n",
      "yes\n"
     ]
    }
   ],
   "source": [
    "numbers=[1,4,3,6]\n",
    "even_count=0\n",
    "for number in numbers:\n",
    "    print(number)\n",
    "    if number%2==0:\n",
    "        even_count=even_count+1\n",
    "if even_count==0:\n",
    "    print(\"NO\")\n",
    "else:\n",
    "    print(\"yes\")"
   ]
  },
  {
   "cell_type": "code",
   "execution_count": 6,
   "metadata": {},
   "outputs": [
    {
     "name": "stdout",
     "output_type": "stream",
     "text": [
      "1\n",
      "5\n",
      "3\n",
      "7\n",
      "6\n",
      "yes\n"
     ]
    }
   ],
   "source": [
    "numbers=[1,5,3,7,6]\n",
    "even_count=0\n",
    "for number in numbers:\n",
    "    print(number)\n",
    "    if number%2==0:\n",
    "        even_count=even_count+1\n",
    "if even_count==0:\n",
    "    print(\"NO\")\n",
    "else:\n",
    "    print(\"yes\")"
   ]
  },
  {
   "cell_type": "code",
   "execution_count": 7,
   "metadata": {},
   "outputs": [
    {
     "name": "stdout",
     "output_type": "stream",
     "text": [
      "1\n",
      "4\n",
      "5\n",
      "3\n",
      "7\n",
      "6\n",
      "yes\n"
     ]
    }
   ],
   "source": [
    "numbers=[1,4,5,3,7,6]\n",
    "even_count=0\n",
    "for number in numbers:\n",
    "    print(number)\n",
    "    if number%2==0:\n",
    "        even_count=even_count+1\n",
    "if even_count==0:\n",
    "    print(\"NO\")\n",
    "else:\n",
    "    print(\"yes\")"
   ]
  },
  {
   "cell_type": "code",
   "execution_count": 8,
   "metadata": {},
   "outputs": [
    {
     "name": "stdout",
     "output_type": "stream",
     "text": [
      "1\n",
      "4\n",
      "yes\n"
     ]
    }
   ],
   "source": [
    "numbers=[1,4,5,3,7,6]\n",
    "even_count=0\n",
    "for number in numbers:\n",
    "    print(number)\n",
    "    if number%2==0:\n",
    "        even_count=even_count+1\n",
    "        break\n",
    "if even_count==0:\n",
    "    print(\"NO\")\n",
    "else:\n",
    "    print(\"yes\")"
   ]
  },
  {
   "cell_type": "code",
   "execution_count": 9,
   "metadata": {},
   "outputs": [
    {
     "name": "stdout",
     "output_type": "stream",
     "text": [
      "1\n",
      "5\n",
      "3\n",
      "7\n",
      "NO\n"
     ]
    }
   ],
   "source": [
    "numbers=[1,5,3,7]\n",
    "even_count=0\n",
    "for number in numbers:\n",
    "    print(number)\n",
    "    if number%2==0:\n",
    "        even_count=even_count+1\n",
    "        break\n",
    "if even_count==0:\n",
    "    print(\"NO\")\n",
    "else:\n",
    "    print(\"yes\")"
   ]
  },
  {
   "cell_type": "code",
   "execution_count": 10,
   "metadata": {},
   "outputs": [
    {
     "name": "stdout",
     "output_type": "stream",
     "text": [
      "welcome\n",
      "thanks\n"
     ]
    }
   ],
   "source": [
    "print(\"welcome\")\n",
    "for i in [1,2,3,4]:\n",
    "    break\n",
    "    print(\"hello\")\n",
    "print(\"thanks\")"
   ]
  },
  {
   "cell_type": "code",
   "execution_count": null,
   "metadata": {},
   "outputs": [],
   "source": []
  }
 ],
 "metadata": {
  "kernelspec": {
   "display_name": "Python 3",
   "language": "python",
   "name": "python3"
  },
  "language_info": {
   "codemirror_mode": {
    "name": "ipython",
    "version": 3
   },
   "file_extension": ".py",
   "mimetype": "text/x-python",
   "name": "python",
   "nbconvert_exporter": "python",
   "pygments_lexer": "ipython3",
   "version": "3.7.4"
  }
 },
 "nbformat": 4,
 "nbformat_minor": 2
}
