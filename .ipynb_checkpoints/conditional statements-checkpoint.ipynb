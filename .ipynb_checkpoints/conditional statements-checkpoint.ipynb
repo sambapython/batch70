{
 "cells": [
  {
   "cell_type": "code",
   "execution_count": 1,
   "metadata": {},
   "outputs": [
    {
     "name": "stdout",
     "output_type": "stream",
     "text": [
      "st1\n",
      "st2\n",
      "st3\n",
      "st4\n"
     ]
    }
   ],
   "source": [
    "print(\"st1\")\n",
    "print(\"st2\")\n",
    "print(\"st3\")\n",
    "print(\"st4\")"
   ]
  },
  {
   "cell_type": "code",
   "execution_count": 2,
   "metadata": {},
   "outputs": [
    {
     "name": "stdout",
     "output_type": "stream",
     "text": [
      "Welcoome\n",
      "enter a:12\n",
      "enter b:34\n",
      "a is big\n",
      "b is big\n",
      "Thanks\n"
     ]
    }
   ],
   "source": [
    "# big of two numbers\n",
    "print(\"Welcoome\")\n",
    "a=float(input(\"enter a:\"))\n",
    "b=float(input(\"enter b:\"))\n",
    "print(\"a is big\")\n",
    "print(\"b is big\")\n",
    "print(\"Thanks\")"
   ]
  },
  {
   "cell_type": "code",
   "execution_count": 3,
   "metadata": {},
   "outputs": [
    {
     "name": "stdout",
     "output_type": "stream",
     "text": [
      "Welcoome\n",
      "enter a:12\n",
      "enter b:10\n",
      "a is big\n",
      "b is big\n",
      "Thanks\n"
     ]
    }
   ],
   "source": [
    "# big of two numbers\n",
    "print(\"Welcoome\")\n",
    "a=float(input(\"enter a:\"))\n",
    "b=float(input(\"enter b:\"))\n",
    "print(\"a is big\")\n",
    "print(\"b is big\")\n",
    "print(\"Thanks\")"
   ]
  },
  {
   "cell_type": "code",
   "execution_count": 4,
   "metadata": {},
   "outputs": [
    {
     "name": "stdout",
     "output_type": "stream",
     "text": [
      "20\n"
     ]
    }
   ],
   "source": [
    "a=10\n",
    "a=20\n",
    "print(a)"
   ]
  },
  {
   "cell_type": "code",
   "execution_count": 5,
   "metadata": {},
   "outputs": [
    {
     "name": "stdout",
     "output_type": "stream",
     "text": [
      "welcome\n",
      "hello\n",
      "thanks\n"
     ]
    }
   ],
   "source": [
    "print(\"welcome\")\n",
    "if True:\n",
    "    print(\"hello\")\n",
    "else:\n",
    "    print(\"hi\")\n",
    "print(\"thanks\")"
   ]
  },
  {
   "cell_type": "code",
   "execution_count": 6,
   "metadata": {},
   "outputs": [
    {
     "name": "stdout",
     "output_type": "stream",
     "text": [
      "welcome\n",
      "hi\n",
      "thanks\n"
     ]
    }
   ],
   "source": [
    "print(\"welcome\")\n",
    "if False:\n",
    "    print(\"hello\")\n",
    "else:\n",
    "    print(\"hi\")\n",
    "print(\"thanks\")"
   ]
  },
  {
   "cell_type": "code",
   "execution_count": 7,
   "metadata": {},
   "outputs": [
    {
     "name": "stdout",
     "output_type": "stream",
     "text": [
      "Welcoome\n",
      "enter a:12\n",
      "enter b:34\n",
      "False\n",
      "b is big\n",
      "Thanks\n"
     ]
    }
   ],
   "source": [
    "# big of two numbers\n",
    "print(\"Welcoome\")\n",
    "a=float(input(\"enter a:\"))\n",
    "b=float(input(\"enter b:\"))\n",
    "print(a>b)\n",
    "if a>b:\n",
    "    print(\"a is big\")\n",
    "else:\n",
    "    print(\"b is big\")\n",
    "print(\"Thanks\")"
   ]
  },
  {
   "cell_type": "code",
   "execution_count": 8,
   "metadata": {},
   "outputs": [
    {
     "name": "stdout",
     "output_type": "stream",
     "text": [
      "Welcoome\n",
      "enter a:23\n",
      "enter b:12\n",
      "a is big\n",
      "Thanks\n"
     ]
    }
   ],
   "source": [
    "# big of two numbers\n",
    "print(\"Welcoome\")\n",
    "a=float(input(\"enter a:\"))\n",
    "b=float(input(\"enter b:\"))\n",
    "if a>b:\n",
    "    print(\"a is big\")\n",
    "else:\n",
    "    print(\"b is big\")\n",
    "print(\"Thanks\")"
   ]
  },
  {
   "cell_type": "code",
   "execution_count": 9,
   "metadata": {},
   "outputs": [
    {
     "data": {
      "text/plain": [
       "'a'"
      ]
     },
     "execution_count": 9,
     "metadata": {},
     "output_type": "execute_result"
    }
   ],
   "source": [
    "s=\"A\"\n",
    "s.lower()"
   ]
  },
  {
   "cell_type": "code",
   "execution_count": 10,
   "metadata": {},
   "outputs": [
    {
     "data": {
      "text/plain": [
       "97"
      ]
     },
     "execution_count": 10,
     "metadata": {},
     "output_type": "execute_result"
    }
   ],
   "source": [
    "ord(\"a\")"
   ]
  },
  {
   "cell_type": "code",
   "execution_count": 11,
   "metadata": {},
   "outputs": [
    {
     "data": {
      "text/plain": [
       "'a'"
      ]
     },
     "execution_count": 11,
     "metadata": {},
     "output_type": "execute_result"
    }
   ],
   "source": [
    "chr(97)"
   ]
  },
  {
   "cell_type": "code",
   "execution_count": 12,
   "metadata": {},
   "outputs": [
    {
     "data": {
      "text/plain": [
       "'A'"
      ]
     },
     "execution_count": 12,
     "metadata": {},
     "output_type": "execute_result"
    }
   ],
   "source": [
    "chr(ord(\"a\")-32)"
   ]
  },
  {
   "cell_type": "code",
   "execution_count": 13,
   "metadata": {},
   "outputs": [
    {
     "data": {
      "text/plain": [
       "'A'"
      ]
     },
     "execution_count": 13,
     "metadata": {},
     "output_type": "execute_result"
    }
   ],
   "source": [
    "chr(65)"
   ]
  },
  {
   "cell_type": "code",
   "execution_count": 15,
   "metadata": {},
   "outputs": [
    {
     "name": "stdout",
     "output_type": "stream",
     "text": [
      "Enter char:q\n"
     ]
    },
    {
     "data": {
      "text/plain": [
       "'Q'"
      ]
     },
     "execution_count": 15,
     "metadata": {},
     "output_type": "execute_result"
    }
   ],
   "source": [
    "chr(ord(input(\"Enter char:\"))-32)"
   ]
  },
  {
   "cell_type": "code",
   "execution_count": 1,
   "metadata": {},
   "outputs": [
    {
     "name": "stdout",
     "output_type": "stream",
     "text": [
      "0\n",
      "5.0\n"
     ]
    }
   ],
   "source": [
    "# is it devisible by 2\n",
    "n=10\n",
    "print(n%2)\n",
    "print(n/2)"
   ]
  },
  {
   "cell_type": "code",
   "execution_count": 2,
   "metadata": {},
   "outputs": [
    {
     "name": "stdout",
     "output_type": "stream",
     "text": [
      "1\n",
      "5.5\n"
     ]
    }
   ],
   "source": [
    "# is it devisible by 2\n",
    "n=11\n",
    "print(n%2)\n",
    "print(n/2)"
   ]
  },
  {
   "cell_type": "code",
   "execution_count": 9,
   "metadata": {},
   "outputs": [
    {
     "name": "stdout",
     "output_type": "stream",
     "text": [
      "0\n",
      "divisible by 2\n"
     ]
    }
   ],
   "source": [
    "n=10\n",
    "res=n%2\n",
    "print(res)\n",
    "if res==0:\n",
    "    print(\"divisible by 2\")\n",
    "else:\n",
    "    print(\"it is not devisible by 2\")"
   ]
  },
  {
   "cell_type": "code",
   "execution_count": 10,
   "metadata": {},
   "outputs": [
    {
     "data": {
      "text/plain": [
       "True"
      ]
     },
     "execution_count": 10,
     "metadata": {},
     "output_type": "execute_result"
    }
   ],
   "source": [
    "0==0"
   ]
  },
  {
   "cell_type": "code",
   "execution_count": 7,
   "metadata": {},
   "outputs": [
    {
     "name": "stdout",
     "output_type": "stream",
     "text": [
      "1\n",
      "it is not devisible by 2\n"
     ]
    }
   ],
   "source": [
    "n=11\n",
    "res=n%2\n",
    "print(res)\n",
    "if res==0:\n",
    "    print(\"divisible by 2\")\n",
    "else:\n",
    "    print(\"it is not devisible by 2\")"
   ]
  },
  {
   "cell_type": "code",
   "execution_count": 8,
   "metadata": {},
   "outputs": [
    {
     "data": {
      "text/plain": [
       "False"
      ]
     },
     "execution_count": 8,
     "metadata": {},
     "output_type": "execute_result"
    }
   ],
   "source": [
    "1==0"
   ]
  },
  {
   "cell_type": "code",
   "execution_count": 11,
   "metadata": {},
   "outputs": [
    {
     "name": "stdout",
     "output_type": "stream",
     "text": [
      "enter number:12\n",
      "it's even number\n"
     ]
    }
   ],
   "source": [
    "n=float(input(\"enter number:\"))\n",
    "res=n%2\n",
    "if res==0:\n",
    "    print(\"it's even number\")\n",
    "else:\n",
    "    print(\"it's odd number\")"
   ]
  },
  {
   "cell_type": "code",
   "execution_count": 12,
   "metadata": {},
   "outputs": [
    {
     "name": "stdout",
     "output_type": "stream",
     "text": [
      "enter number:13\n",
      "it's odd number\n"
     ]
    }
   ],
   "source": [
    "n=float(input(\"enter number:\"))\n",
    "res=n%2\n",
    "if res==0:\n",
    "    print(\"it's even number\")\n",
    "else:\n",
    "    print(\"it's odd number\")"
   ]
  },
  {
   "cell_type": "code",
   "execution_count": 13,
   "metadata": {},
   "outputs": [],
   "source": [
    "# take a number from the user check whether it is divisible by 5 or not.\n"
   ]
  },
  {
   "cell_type": "code",
   "execution_count": 16,
   "metadata": {},
   "outputs": [
    {
     "name": "stdout",
     "output_type": "stream",
     "text": [
      "enter some string:python\n",
      "python\n"
     ]
    }
   ],
   "source": [
    "s=input(\"enter some string:\")\n",
    "print(s)"
   ]
  },
  {
   "cell_type": "code",
   "execution_count": 17,
   "metadata": {},
   "outputs": [
    {
     "name": "stdout",
     "output_type": "stream",
     "text": [
      "enter some string:\n",
      "\n"
     ]
    }
   ],
   "source": [
    "s=input(\"enter some string:\")\n",
    "print(s)"
   ]
  },
  {
   "cell_type": "code",
   "execution_count": 18,
   "metadata": {},
   "outputs": [
    {
     "name": "stdout",
     "output_type": "stream",
     "text": [
      "Enter string:python\n",
      "valid string\n"
     ]
    }
   ],
   "source": [
    "s=input(\"Enter string:\")\n",
    "if len(s)==0:\n",
    "    print(\"invalid string\")\n",
    "else:\n",
    "    print(\"valid string\")"
   ]
  },
  {
   "cell_type": "code",
   "execution_count": 19,
   "metadata": {},
   "outputs": [
    {
     "name": "stdout",
     "output_type": "stream",
     "text": [
      "Enter string:\n",
      "invalid string\n"
     ]
    }
   ],
   "source": [
    "s=input(\"Enter string:\")\n",
    "if len(s)==0:\n",
    "    print(\"invalid string\")\n",
    "else:\n",
    "    print(\"valid string\")"
   ]
  },
  {
   "cell_type": "code",
   "execution_count": 21,
   "metadata": {},
   "outputs": [
    {
     "name": "stdout",
     "output_type": "stream",
     "text": [
      "Enter string:python\n",
      "6\n"
     ]
    }
   ],
   "source": [
    "s=input(\"Enter string:\")\n",
    "print(len(s))"
   ]
  },
  {
   "cell_type": "code",
   "execution_count": 22,
   "metadata": {},
   "outputs": [
    {
     "name": "stdout",
     "output_type": "stream",
     "text": [
      "Enter string:\n",
      "0\n"
     ]
    }
   ],
   "source": [
    "s=input(\"Enter string:\")\n",
    "print(len(s))"
   ]
  },
  {
   "cell_type": "code",
   "execution_count": 23,
   "metadata": {},
   "outputs": [
    {
     "name": "stdout",
     "output_type": "stream",
     "text": [
      "Enter string:sdf\n",
      "3\n"
     ]
    }
   ],
   "source": [
    "s=input(\"Enter string:\")\n",
    "print(len(s))"
   ]
  },
  {
   "cell_type": "code",
   "execution_count": 24,
   "metadata": {},
   "outputs": [
    {
     "name": "stdout",
     "output_type": "stream",
     "text": [
      "Enter string:python\n",
      "True\n"
     ]
    }
   ],
   "source": [
    "s=input(\"Enter string:\")\n",
    "print(bool(s))"
   ]
  },
  {
   "cell_type": "code",
   "execution_count": 25,
   "metadata": {},
   "outputs": [
    {
     "name": "stdout",
     "output_type": "stream",
     "text": [
      "Enter string:\n",
      "False\n"
     ]
    }
   ],
   "source": [
    "s=input(\"Enter string:\")\n",
    "print(bool(s))"
   ]
  },
  {
   "cell_type": "code",
   "execution_count": 26,
   "metadata": {},
   "outputs": [
    {
     "name": "stdout",
     "output_type": "stream",
     "text": [
      "Enter string:python\n",
      "valid string\n"
     ]
    }
   ],
   "source": [
    "s=input(\"Enter string:\")\n",
    "if bool(s):\n",
    "    print(\"valid string\")\n",
    "else:\n",
    "    print(\"in valid string\")"
   ]
  },
  {
   "cell_type": "code",
   "execution_count": 27,
   "metadata": {},
   "outputs": [
    {
     "name": "stdout",
     "output_type": "stream",
     "text": [
      "Enter string:\n",
      "in valid string\n"
     ]
    }
   ],
   "source": [
    "s=input(\"Enter string:\")\n",
    "if bool(s):\n",
    "    print(\"valid string\")\n",
    "else:\n",
    "    print(\"in valid string\")"
   ]
  },
  {
   "cell_type": "code",
   "execution_count": 28,
   "metadata": {},
   "outputs": [],
   "source": [
    "if 10>20:\n",
    "    print(\"fdfds\")"
   ]
  },
  {
   "cell_type": "code",
   "execution_count": 29,
   "metadata": {},
   "outputs": [
    {
     "name": "stdout",
     "output_type": "stream",
     "text": [
      "Enter string:\n",
      "in valid string\n"
     ]
    }
   ],
   "source": [
    "s=input(\"Enter string:\")\n",
    "if s:\n",
    "    print(\"valid string\")\n",
    "else:\n",
    "    print(\"in valid string\")"
   ]
  },
  {
   "cell_type": "code",
   "execution_count": 30,
   "metadata": {},
   "outputs": [
    {
     "name": "stdout",
     "output_type": "stream",
     "text": [
      "enter:\n",
      "False\n"
     ]
    }
   ],
   "source": [
    "s=input(\"enter:\")\n",
    "print(s==None)"
   ]
  },
  {
   "cell_type": "code",
   "execution_count": 31,
   "metadata": {},
   "outputs": [
    {
     "data": {
      "text/plain": [
       "False"
      ]
     },
     "execution_count": 31,
     "metadata": {},
     "output_type": "execute_result"
    }
   ],
   "source": [
    "s=\"\"\n",
    "s==None"
   ]
  },
  {
   "cell_type": "code",
   "execution_count": 32,
   "metadata": {},
   "outputs": [
    {
     "data": {
      "text/plain": [
       "False"
      ]
     },
     "execution_count": 32,
     "metadata": {},
     "output_type": "execute_result"
    }
   ],
   "source": [
    "\"\"==None"
   ]
  },
  {
   "cell_type": "code",
   "execution_count": 33,
   "metadata": {},
   "outputs": [
    {
     "name": "stdout",
     "output_type": "stream",
     "text": [
      "hello\n"
     ]
    }
   ],
   "source": [
    "if -10:\n",
    "    print(\"hello\")"
   ]
  },
  {
   "cell_type": "code",
   "execution_count": 34,
   "metadata": {},
   "outputs": [],
   "source": [
    "if 0:\n",
    "    print(\"hello\")"
   ]
  },
  {
   "cell_type": "code",
   "execution_count": 35,
   "metadata": {},
   "outputs": [
    {
     "name": "stdout",
     "output_type": "stream",
     "text": [
      "menu:\n",
      "\t1:hplaptops\n",
      "\t2:lenovolaptops\n",
      "\t3:all destops\n",
      "\t4:mobilephones\n"
     ]
    }
   ],
   "source": [
    "'''\n",
    "menu:\n",
    "    1: hplaptop\n",
    "    2: lenovo laptop\n",
    "    3: all desktops\n",
    "    4: mobilephones\n",
    "'''\n",
    "# selected hplaptop, cost:30,000\n",
    "print(\"menu:\\n\\t1:hplaptops\\n\\t2:lenovolaptops\\n\\t3:all destops\\n\\t4:mobilephones\")"
   ]
  },
  {
   "cell_type": "code",
   "execution_count": 36,
   "metadata": {},
   "outputs": [
    {
     "name": "stdout",
     "output_type": "stream",
     "text": [
      "menu:\n",
      "\t1:hplaptops\n",
      "\t2:lenovolaptops\n",
      "\t3:all destops\n",
      "\t4:mobilephones\n",
      "enter an option:1\n",
      "1\n"
     ]
    }
   ],
   "source": [
    "'''\n",
    "menu:\n",
    "    1: hplaptop\n",
    "    2: lenovo laptop\n",
    "    3: all desktops\n",
    "    4: mobilephones\n",
    "'''\n",
    "# selected hplaptop, cost:30,000\n",
    "print(\"menu:\\n\\t1:hplaptops\\n\\t2:lenovolaptops\\n\\t3:all destops\\n\\t4:mobilephones\")\n",
    "opt=input(\"enter an option:\")\n",
    "print(opt)"
   ]
  },
  {
   "cell_type": "code",
   "execution_count": 37,
   "metadata": {},
   "outputs": [
    {
     "name": "stdout",
     "output_type": "stream",
     "text": [
      "menu:\n",
      "\t1:hplaptops\n",
      "\t2:lenovolaptops\n",
      "\t3:all destops\n",
      "\t4:mobilephones\n",
      "enter an option:2\n",
      "2\n"
     ]
    }
   ],
   "source": [
    "'''\n",
    "menu:\n",
    "    1: hplaptop\n",
    "    2: lenovo laptop\n",
    "    3: all desktops\n",
    "    4: mobilephones\n",
    "'''\n",
    "# selected hplaptop, cost:30,000\n",
    "print(\"menu:\\n\\t1:hplaptops\\n\\t2:lenovolaptops\\n\\t3:all destops\\n\\t4:mobilephones\")\n",
    "opt=input(\"enter an option:\")\n",
    "print(opt)"
   ]
  },
  {
   "cell_type": "code",
   "execution_count": 38,
   "metadata": {},
   "outputs": [
    {
     "name": "stdout",
     "output_type": "stream",
     "text": [
      "menu:\n",
      "\t1:hplaptops\n",
      "\t2:lenovolaptops\n",
      "\t3:all destops\n",
      "\t4:mobilephones\n",
      "enter an option:1\n"
     ]
    }
   ],
   "source": [
    "'''\n",
    "menu:\n",
    "    1: hplaptop\n",
    "    2: lenovo laptop\n",
    "    3: all desktops\n",
    "    4: mobilephones\n",
    "'''\n",
    "# selected hplaptop, cost:30,000\n",
    "print(\"menu:\\n\\t1:hplaptops\\n\\t2:lenovolaptops\\n\\t3:all destops\\n\\t4:mobilephones\")\n",
    "opt=input(\"enter an option:\")\n",
    "if opt==1:\n",
    "    print(\"selected hplaptop, cost:30,000\")\n",
    "if opt==2:\n",
    "    print(\"selected lenovo laptop, cost:45,000\")\n",
    "if opt==3:\n",
    "    print(\"selected desktops, cost:20,000\")\n",
    "if opt==4:\n",
    "    print(\"selected mobilephones, cost:8000\")"
   ]
  },
  {
   "cell_type": "code",
   "execution_count": 39,
   "metadata": {},
   "outputs": [
    {
     "data": {
      "text/plain": [
       "True"
      ]
     },
     "execution_count": 39,
     "metadata": {},
     "output_type": "execute_result"
    }
   ],
   "source": [
    "1==1"
   ]
  },
  {
   "cell_type": "code",
   "execution_count": 40,
   "metadata": {},
   "outputs": [
    {
     "data": {
      "text/plain": [
       "True"
      ]
     },
     "execution_count": 40,
     "metadata": {},
     "output_type": "execute_result"
    }
   ],
   "source": [
    "\"1\"==\"1\""
   ]
  },
  {
   "cell_type": "code",
   "execution_count": 41,
   "metadata": {},
   "outputs": [
    {
     "data": {
      "text/plain": [
       "False"
      ]
     },
     "execution_count": 41,
     "metadata": {},
     "output_type": "execute_result"
    }
   ],
   "source": [
    "1==\"1\""
   ]
  },
  {
   "cell_type": "code",
   "execution_count": 42,
   "metadata": {},
   "outputs": [
    {
     "name": "stdout",
     "output_type": "stream",
     "text": [
      "menu:\n",
      "\t1:hplaptops\n",
      "\t2:lenovolaptops\n",
      "\t3:all destops\n",
      "\t4:mobilephones\n",
      "enter an option:1\n",
      "selected hplaptop, cost:30,000\n"
     ]
    }
   ],
   "source": [
    "'''\n",
    "menu:\n",
    "    1: hplaptop\n",
    "    2: lenovo laptop\n",
    "    3: all desktops\n",
    "    4: mobilephones\n",
    "'''\n",
    "# selected hplaptop, cost:30,000\n",
    "print(\"menu:\\n\\t1:hplaptops\\n\\t2:lenovolaptops\\n\\t3:all destops\\n\\t4:mobilephones\")\n",
    "opt=input(\"enter an option:\")\n",
    "if opt==\"1\":\n",
    "    print(\"selected hplaptop, cost:30,000\")\n",
    "if opt==\"2\":\n",
    "    print(\"selected lenovo laptop, cost:45,000\")\n",
    "if opt==\"3\":\n",
    "    print(\"selected desktops, cost:20,000\")\n",
    "if opt==\"4\":\n",
    "    print(\"selected mobilephones, cost:8000\")"
   ]
  },
  {
   "cell_type": "code",
   "execution_count": 43,
   "metadata": {},
   "outputs": [
    {
     "name": "stdout",
     "output_type": "stream",
     "text": [
      "menu:\n",
      "\t1:hplaptops\n",
      "\t2:lenovolaptops\n",
      "\t3:all destops\n",
      "\t4:mobilephones\n",
      "enter an option:2\n",
      "selected lenovo laptop, cost:45,000\n"
     ]
    }
   ],
   "source": [
    "'''\n",
    "menu:\n",
    "    1: hplaptop\n",
    "    2: lenovo laptop\n",
    "    3: all desktops\n",
    "    4: mobilephones\n",
    "'''\n",
    "# selected hplaptop, cost:30,000\n",
    "print(\"menu:\\n\\t1:hplaptops\\n\\t2:lenovolaptops\\n\\t3:all destops\\n\\t4:mobilephones\")\n",
    "opt=input(\"enter an option:\")\n",
    "if opt==\"1\":\n",
    "    print(\"selected hplaptop, cost:30,000\")\n",
    "if opt==\"2\":\n",
    "    print(\"selected lenovo laptop, cost:45,000\")\n",
    "if opt==\"3\":\n",
    "    print(\"selected desktops, cost:20,000\")\n",
    "if opt==\"4\":\n",
    "    print(\"selected mobilephones, cost:8000\")"
   ]
  },
  {
   "cell_type": "code",
   "execution_count": 44,
   "metadata": {},
   "outputs": [
    {
     "name": "stdout",
     "output_type": "stream",
     "text": [
      "menu:\n",
      "\t1:hplaptops\n",
      "\t2:lenovolaptops\n",
      "\t3:all destops\n",
      "\t4:mobilephones\n",
      "enter an option:3\n",
      "selected desktops, cost:20,000\n"
     ]
    }
   ],
   "source": [
    "'''\n",
    "menu:\n",
    "    1: hplaptop\n",
    "    2: lenovo laptop\n",
    "    3: all desktops\n",
    "    4: mobilephones\n",
    "'''\n",
    "# selected hplaptop, cost:30,000\n",
    "print(\"menu:\\n\\t1:hplaptops\\n\\t2:lenovolaptops\\n\\t3:all destops\\n\\t4:mobilephones\")\n",
    "opt=input(\"enter an option:\")\n",
    "if opt==\"1\":\n",
    "    print(\"selected hplaptop, cost:30,000\")\n",
    "if opt==\"2\":\n",
    "    print(\"selected lenovo laptop, cost:45,000\")\n",
    "if opt==\"3\":\n",
    "    print(\"selected desktops, cost:20,000\")\n",
    "if opt==\"4\":\n",
    "    print(\"selected mobilephones, cost:8000\")"
   ]
  },
  {
   "cell_type": "code",
   "execution_count": 45,
   "metadata": {},
   "outputs": [
    {
     "name": "stdout",
     "output_type": "stream",
     "text": [
      "menu:\n",
      "\t1:hplaptops\n",
      "\t2:lenovolaptops\n",
      "\t3:all destops\n",
      "\t4:mobilephones\n",
      "enter an option:4\n",
      "selected mobilephones, cost:8000\n"
     ]
    }
   ],
   "source": [
    "'''\n",
    "menu:\n",
    "    1: hplaptop\n",
    "    2: lenovo laptop\n",
    "    3: all desktops\n",
    "    4: mobilephones\n",
    "'''\n",
    "# selected hplaptop, cost:30,000\n",
    "print(\"menu:\\n\\t1:hplaptops\\n\\t2:lenovolaptops\\n\\t3:all destops\\n\\t4:mobilephones\")\n",
    "opt=input(\"enter an option:\")\n",
    "if opt==\"1\":\n",
    "    print(\"selected hplaptop, cost:30,000\")\n",
    "if opt==\"2\":\n",
    "    print(\"selected lenovo laptop, cost:45,000\")\n",
    "if opt==\"3\":\n",
    "    print(\"selected desktops, cost:20,000\")\n",
    "if opt==\"4\":\n",
    "    print(\"selected mobilephones, cost:8000\")"
   ]
  },
  {
   "cell_type": "code",
   "execution_count": 46,
   "metadata": {},
   "outputs": [
    {
     "name": "stdout",
     "output_type": "stream",
     "text": [
      "menu:\n",
      "\t1:hplaptops\n",
      "\t2:lenovolaptops\n",
      "\t3:all destops\n",
      "\t4:mobilephones\n",
      "enter an option:5\n"
     ]
    }
   ],
   "source": [
    "'''\n",
    "menu:\n",
    "    1: hplaptop\n",
    "    2: lenovo laptop\n",
    "    3: all desktops\n",
    "    4: mobilephones\n",
    "'''\n",
    "# selected hplaptop, cost:30,000\n",
    "print(\"menu:\\n\\t1:hplaptops\\n\\t2:lenovolaptops\\n\\t3:all destops\\n\\t4:mobilephones\")\n",
    "opt=input(\"enter an option:\")\n",
    "if opt==\"1\":\n",
    "    print(\"selected hplaptop, cost:30,000\")\n",
    "if opt==\"2\":\n",
    "    print(\"selected lenovo laptop, cost:45,000\")\n",
    "if opt==\"3\":\n",
    "    print(\"selected desktops, cost:20,000\")\n",
    "if opt==\"4\":\n",
    "    print(\"selected mobilephones, cost:8000\")"
   ]
  },
  {
   "cell_type": "code",
   "execution_count": null,
   "metadata": {},
   "outputs": [],
   "source": []
  }
 ],
 "metadata": {
  "kernelspec": {
   "display_name": "Python 3",
   "language": "python",
   "name": "python3"
  },
  "language_info": {
   "codemirror_mode": {
    "name": "ipython",
    "version": 3
   },
   "file_extension": ".py",
   "mimetype": "text/x-python",
   "name": "python",
   "nbconvert_exporter": "python",
   "pygments_lexer": "ipython3",
   "version": "3.7.4"
  }
 },
 "nbformat": 4,
 "nbformat_minor": 2
}
